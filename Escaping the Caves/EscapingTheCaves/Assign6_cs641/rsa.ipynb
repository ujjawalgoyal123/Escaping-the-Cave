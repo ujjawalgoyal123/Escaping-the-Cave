{
 "cells": [
  {
   "cell_type": "code",
   "execution_count": 1,
   "metadata": {},
   "outputs": [],
   "source": [
    "def break_RSA(x_str, max_len_M, N, C, e):\n",
    "    modN = Zmod(N)\n",
    "    x_str_binary = ''.join(['{0:08b}'.format(ord(x)) for x in x_str])\n",
    "    \n",
    "    for len_M in range(0, max_len_M+1, 4):\n",
    "        P.<M> = modN[]\n",
    "        poly = ((int(x_str_binary,2)<<len_M)+M)^e-C\n",
    "        poly_deg = poly.degree()\n",
    "        m = ceil(7/poly_deg)\n",
    "        X = ceil(N**((1/poly_deg)-1/7))\n",
    "            \n",
    "        nn = poly_deg * m\n",
    "        polZ = poly.change_ring(ZZ)\n",
    "        x = polZ.parent().gen()\n",
    "        gg = []\n",
    "        for i in range(m):\n",
    "            for j in range(poly_deg):\n",
    "                gg.append((x * X)**j * N**(m - i) * polZ(x * X)**i)\n",
    "        BB = Matrix(ZZ, nn)\n",
    "        for i in range(nn):\n",
    "            for j in range(i+1):\n",
    "                BB[i, j] = gg[i][j]\n",
    "        BB = BB.LLL()\n",
    "        new_pol = 0\n",
    "        for i in range(nn):\n",
    "            new_pol += x**i * BB[0, i] / X**i\n",
    "        potential_roots = new_pol.roots()\n",
    "        roots = []\n",
    "        for root in potential_roots:\n",
    "            if root[0].is_integer():\n",
    "                result = polZ(ZZ(root[0]))\n",
    "                if gcd(N, result) >= N:\n",
    "                    roots.append(ZZ(root[0]))\n",
    "        if roots:\n",
    "            root = '{0:b}'.format(roots[0])\n",
    "            extra = 8-len(root)%8\n",
    "            root = '0'*extra+root\n",
    "            print(\"Binary Password: \",root)\n",
    "            root = ''.join([chr(int(root[i:i+8],2)) for i in range(0,len(root),8)])\n",
    "            print(\"Password: '{}'\".format(root))\n",
    "            return\n",
    "    print(\"No solution\")"
   ]
  },
  {
   "cell_type": "code",
   "execution_count": 2,
   "metadata": {},
   "outputs": [],
   "source": [
    "e = 5\n",
    "N = 84364443735725034864402554533826279174703893439763343343863260342756678609216895093779263028809246505955647572176682669445270008816481771701417554768871285020442403001649254405058303439906229201909599348669565697534331652019516409514800265887388539283381053937433496994442146419682027649079704982600857517093\n",
    "C = 23701787746829110396789094907319830305538180376427283226295906585301889543996533410539381779684366880970896279018807100530176651625086988655210858554133345906272561027798171440923147960165094891980452757852685707020289384698322665347609905744582248157246932007978339129630067022987966706955482598869800151693\n",
    "# RSA known parameters\n",
    "ZmodN = Zmod(N);"
   ]
  },
  {
   "cell_type": "code",
   "execution_count": 3,
   "metadata": {},
   "outputs": [
    {
     "name": "stdout",
     "output_type": "stream",
     "text": [
      "Binary Password:  001000000100001001000000011010000111010101100010010000010110110000100001\n",
      "Password: ' B@hubAl!'\n"
     ]
    }
   ],
   "source": [
    "break_RSA(\"You see a Gold-Bug in one corner. It is the key to a treasure found by\", 300, N, C, e)"
   ]
  },
  {
   "cell_type": "code",
   "execution_count": null,
   "metadata": {},
   "outputs": [],
   "source": []
  }
 ],
 "metadata": {
  "kernelspec": {
   "display_name": "SageMath 9.2",
   "language": "sage",
   "name": "sagemath"
  },
  "language_info": {
   "codemirror_mode": {
    "name": "ipython",
    "version": 3
   },
   "file_extension": ".py",
   "mimetype": "text/x-python",
   "name": "python",
   "nbconvert_exporter": "python",
   "pygments_lexer": "ipython3",
   "version": "3.8.5"
  }
 },
 "nbformat": 4,
 "nbformat_minor": 4
}
