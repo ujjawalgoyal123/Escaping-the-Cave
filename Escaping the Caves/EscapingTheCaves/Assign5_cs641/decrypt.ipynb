{
 "cells": [
  {
   "cell_type": "code",
   "execution_count": 1,
   "metadata": {},
   "outputs": [],
   "source": [
    "hex_to_str = {0: 'f', 1: 'g', 2: 'h', 3: 'i', 4: 'j', 5: 'k', 6: 'l', 7: 'm', 8: 'n', 9: 'o', 10: 'p', 11: 'q', 12: 'r', 13: 's', 14: 't', 15: 'u'}\n",
    "\n",
    "#number-->cipher_hex\n",
    "def byte_hex(b):\n",
    "    return hex_to_str[b//16]+ hex_to_str[b%16]\n",
    "\n",
    "#2 cipher text-->ASCII\n",
    "def map_to_ASCII(st):\n",
    "    char = chr(16*(ord(st[0]) - ord('f')) + ord(st[1]) - ord('f'))\n",
    "    return char\n",
    "\n",
    "#8 byte or 16 char cipher text-->ASCII\n",
    "def block_to_ASCII(c):\n",
    "    plain = \"\"\n",
    "    for i in range(0, len(c), 2):\n",
    "        plain += map_to_ASCII(c[i:i+2])\n",
    "    return plain"
   ]
  },
  {
   "cell_type": "code",
   "execution_count": 2,
   "metadata": {},
   "outputs": [],
   "source": [
    "from pyfinite import ffield\n",
    "\n",
    "exp_store = [[-1]*128 for i in range(128)]\n",
    "\n",
    "F = ffield.FField(7)\n",
    "\n",
    "def Expo (no, pow_):\n",
    "    if exp_store[no][pow_] != -1:\n",
    "        return exp_store[no][pow_]\n",
    "\n",
    "    result = 0;\n",
    "    if pow_ == 0:\n",
    "        result = 1\n",
    "    elif pow_ == 1:\n",
    "        result = no\n",
    "    elif pow_%2 == 0:\n",
    "        sqrt_no = Expo(no, pow_>>1)\n",
    "        result = F.Multiply(sqrt_no, sqrt_no)\n",
    "    else:\n",
    "        sqrt_no = Expo(no, pow_>>1)\n",
    "        result = F.Multiply(sqrt_no, sqrt_no)\n",
    "        result = F.Multiply(no, result)\n",
    "\n",
    "    exp_store[no][pow_] = result\n",
    "    return result\n",
    "\n",
    "def addVectors (v1, v2):\n",
    "    result = [0]*8\n",
    "    for i, (e1, e2) in enumerate(zip(v1, v2)):\n",
    "        result[i] = e1 ^ e2\n",
    "    return result\n",
    "\n",
    "def scalarMultiplication (v, elem):\n",
    "    result = [0]*8\n",
    "    for i, e in enumerate(v):\n",
    "        result[i] = F.Multiply(e, elem)\n",
    "    return result\n",
    "\n",
    "def LinearTransformation (mat, elist):\n",
    "    result = [0]*8\n",
    "    for row, elem in zip(mat, elist):\n",
    "        result = addVectors(scalarMultiplication(row, elem), result)\n",
    "    return result\n",
    "\n",
    "#This function mimics EAEAE\n",
    "def EAEAE (plaintext, lin_mat, exp_mat):\n",
    "    plaintext = [ord(c) for c in plaintext]\n",
    "    Output = [[0 for j in range (8)] for i in range(8)]\n",
    "    for ind, elem in enumerate(plaintext):\n",
    "        Output[0][ind] = Expo(elem, exp_mat[ind])\n",
    "\n",
    "    Output[1] = LinearTransformation(lin_mat, Output[0])\n",
    "\n",
    "    for ind, elem in enumerate(Output[1]):\n",
    "        Output[2][ind] = Expo(elem, exp_mat[ind])\n",
    "\n",
    "    Output[3] = LinearTransformation(lin_mat, Output[2])\n",
    "\n",
    "    for ind, elem in enumerate(Output[3]):\n",
    "        Output[4][ind] = Expo(elem, exp_mat[ind])\n",
    "    return Output[4]"
   ]
  },
  {
   "cell_type": "code",
   "execution_count": 3,
   "metadata": {},
   "outputs": [
    {
     "name": "stdout",
     "output_type": "stream",
     "text": [
      "[[20, 108], [53, 83, 118], [40, 89, 125], [11, 34, 82], [2, 38, 87], [29, 43, 55], [22, 37, 68], [1, 19, 107]]\n"
     ]
    },
    {
     "data": {
      "text/plain": [
       "[[[84, 67], [], [], [], [], [], [], []],\n",
       " [[], [72, 101, 70], [], [], [], [], [], []],\n",
       " [[], [], [43, 14, 72], [], [], [], [], []],\n",
       " [[], [], [], [6, 9, 12], [], [], [], []],\n",
       " [[], [], [], [], [103, 8, 112], [], [], []],\n",
       " [[], [], [], [], [], [17, 110, 11], [], []],\n",
       " [[], [], [], [], [], [], [27, 66, 70], []],\n",
       " [[], [], [], [], [], [], [], [104, 38, 38]]]"
      ]
     },
     "execution_count": 3,
     "metadata": {},
     "output_type": "execute_result"
    }
   ],
   "source": [
    "#This list will consist of all possible exponents\n",
    "poss_exp = [[] for i in range(8)]\n",
    "#This list will consist of all possible diagonal values\n",
    "poss_aii = [[[] for i in range(8)] for j in range(8)]\n",
    "input_file = open(\"inputs.txt\", 'r')\n",
    "output_file = open(\"outputs.txt\", 'r')\n",
    "for idx, (in_line, out_line) in enumerate(zip(input_file.readlines(), output_file.readlines())):\n",
    "    inp_str = []\n",
    "    out_str = []\n",
    "    #Converting each input to corresponding hex values\n",
    "    for hex_in in in_line.strip().split(\" \"):\n",
    "        inp_str.append(block_to_ASCII(hex_in)[idx])\n",
    "    for hex_out in out_line.strip().split(\" \"):\n",
    "        out_str.append(block_to_ASCII(hex_out)[idx])\n",
    "        \n",
    "    for i in range(1, 127):\n",
    "        for j in range(1, 128):\n",
    "            flag = True\n",
    "            for inps, outs in zip(inp_str, out_str):\n",
    "                #We iterate over all possible values of ei and ajj to check if input maps to output\n",
    "                if ord(outs) != Expo(F.Multiply(Expo(F.Multiply(Expo(ord(inps), i), j), i), j), i):\n",
    "                    flag = False\n",
    "                    break\n",
    "            if flag:\n",
    "                #If yes, then we append them to corresponding possible lists\n",
    "                poss_exp[idx].append(i)\n",
    "                poss_aii[idx][idx].append(j)\n",
    "print(poss_exp)\n",
    "poss_aii"
   ]
  },
  {
   "cell_type": "code",
   "execution_count": 4,
   "metadata": {},
   "outputs": [
    {
     "name": "stdout",
     "output_type": "stream",
     "text": [
      "[[20], [118], [40], [82], [87], [55], [22], [19]]\n"
     ]
    },
    {
     "data": {
      "text/plain": [
       "[[[84], [114], [], [], [], [], [], []],\n",
       " [[], [70], [28], [], [], [], [], []],\n",
       " [[], [], [43], [31], [], [], [], []],\n",
       " [[], [], [], [12], [108], [], [], []],\n",
       " [[], [], [], [], [112], [110], [], []],\n",
       " [[], [], [], [], [], [11], [83], []],\n",
       " [[], [], [], [], [], [], [27], [4]],\n",
       " [[], [], [], [], [], [], [], [38]]]"
      ]
     },
     "execution_count": 4,
     "metadata": {},
     "output_type": "execute_result"
    }
   ],
   "source": [
    "input_file = open(\"inputs.txt\", 'r')\n",
    "output_file = open(\"outputs.txt\", 'r')\n",
    "for idx, (in_line, out_line) in enumerate(zip(input_file.readlines(), output_file.readlines())):\n",
    "    #Considering only first 6 pairs\n",
    "    if idx > 6 :\n",
    "        break\n",
    "    inp_str = []\n",
    "    out_str = []\n",
    "    #Converting each input to corresponding hex values\n",
    "    for hex_in in in_line.strip().split(\" \"):\n",
    "        inp_str.append(block_to_ASCII(hex_in)[idx]) \n",
    "    for hex_o in out_line.strip().split(\" \"):\n",
    "        out_str.append(block_to_ASCII(hex_o)[idx+1])\n",
    "    for i in range(1, 128):\n",
    "        #We iterate over all possible pairs of exponents and diagonal values\n",
    "        for p1, e1 in zip(poss_exp[idx+1], poss_aii[idx+1][idx+1]):\n",
    "            for p2, e2 in zip(poss_exp[idx], poss_aii[idx][idx]):\n",
    "                flag = True\n",
    "                for inp, outp in zip(inp_str, out_str):\n",
    "                    #We substitute the pairs ad=nd iterate over all possible values of i\n",
    "                    #We do this by forming virtual triangle (aii,aij,ajj)\n",
    "                    if ord(outp) != Expo((F.Multiply(Expo(F.Multiply(Expo(ord(inp), p2), e2), p2), i) ^ F.Multiply(Expo(F.Multiply(Expo(ord(inp), p2), i), p1), e1)), p1):\n",
    "                        flag = False\n",
    "                        break\n",
    "                if flag:\n",
    "                    #If we find such value, then we can discard other possibilities and finalize the lists\n",
    "                    poss_exp[idx+1] = [p1]\n",
    "                    poss_aii[idx+1][idx+1] = [e1]\n",
    "                    poss_exp[idx] = [p2]\n",
    "                    poss_aii[idx][idx] = [e2]\n",
    "                    poss_aii[idx][idx+1] = [i]\n",
    "print(poss_exp)\n",
    "poss_aii"
   ]
  },
  {
   "cell_type": "code",
   "execution_count": 5,
   "metadata": {},
   "outputs": [
    {
     "name": "stdout",
     "output_type": "stream",
     "text": [
      "[20, 118, 40, 82, 87, 55, 22, 19]\n"
     ]
    },
    {
     "data": {
      "text/plain": [
       "[[84, 114, 14, 123, 97, 31, 17, 95],\n",
       " [0, 70, 28, 27, 39, 40, 121, 13],\n",
       " [0, 0, 43, 31, 3, 29, 20, 83],\n",
       " [0, 0, 0, 12, 108, 54, 101, 25],\n",
       " [0, 0, 0, 0, 112, 110, 4, 14],\n",
       " [0, 0, 0, 0, 0, 11, 83, 68],\n",
       " [0, 0, 0, 0, 0, 0, 27, 4],\n",
       " [0, 0, 0, 0, 0, 0, 0, 38]]"
      ]
     },
     "execution_count": 5,
     "metadata": {},
     "output_type": "execute_result"
    }
   ],
   "source": [
    "for index in range(6):\n",
    "    #As we have already found element next to diagonal thus skipping two elements every time\n",
    "    of = index + 2\n",
    "    \n",
    "    exp_list = [e[0] for e in poss_exp]\n",
    "    lin_trans_list = [[0 for i in range(8)] for j in range(8)]\n",
    "    #We fill all the empty [] elements with 0\n",
    "    for i in range(8):\n",
    "        for j in range(8):\n",
    "            lin_trans_list[i][j] = 0 if len(poss_aii[i][j]) == 0 else poss_aii[i][j][0]\n",
    "    inp = open(\"inputs.txt\", 'r')\n",
    "    out = open(\"outputs.txt\", 'r')\n",
    "    for ind, (iline, oline) in enumerate(zip(inp.readlines(), out.readlines())):\n",
    "        if ind > (7-of):\n",
    "            continue\n",
    "        inpString = [block_to_ASCII(msg) for msg in iline.strip().split(\" \")]\n",
    "        outString = [block_to_ASCII(msg) for msg in oline.strip().split(\" \")]\n",
    "        #We iterate over all possible values of ai,j to find which one satisfies EAEAE = Output\n",
    "        for i in range(1, 128):\n",
    "            lin_trans_list[ind][ind+of] = i\n",
    "            flag = True\n",
    "            for inps, outs in zip(inpString, outString):\n",
    "                if EAEAE(inps, lin_trans_list, exp_list)[ind+of] != ord(outs[ind+of]):\n",
    "                    flag = False\n",
    "                    break\n",
    "            if flag:\n",
    "                poss_aii[ind][ind+of] = [i]\n",
    "    inp.close();\n",
    "    out.close();\n",
    "#We fill all the empty [] elements with 0\n",
    "lin_trans_list = [[0 for i in range(8)] for j in range(8)]\n",
    "for i in range(8):\n",
    "    for j in range(8):\n",
    "        lin_trans_list[i][j] = 0 if len(poss_aii[i][j]) == 0 else poss_aii[i][j][0]\n",
    "\n",
    "print(exp_list)\n",
    "lin_trans_list"
   ]
  },
  {
   "cell_type": "code",
   "execution_count": 6,
   "metadata": {},
   "outputs": [],
   "source": [
    "#Final Matrices as we found them in above step\n",
    "LINEAR_TRANS = [[84, 114, 14, 123, 97, 31, 17, 95], \n",
    "                 [0, 70, 28, 27, 39, 40, 121, 13], \n",
    "                 [0, 0, 43, 31, 3, 29, 20, 83], \n",
    "                 [0, 0, 0, 12, 108, 54, 101, 25], \n",
    "                 [0, 0, 0, 0, 112, 110, 4, 14], \n",
    "                 [0, 0, 0, 0, 0, 11, 83, 68], \n",
    "                 [0, 0, 0, 0, 0, 0, 27, 4], \n",
    "                 [0, 0, 0, 0, 0, 0, 0, 38]]\n",
    "EXPONENT = [20, 118, 40, 82, 87, 55, 22, 19]"
   ]
  },
  {
   "cell_type": "code",
   "execution_count": 7,
   "metadata": {},
   "outputs": [
    {
     "name": "stdout",
     "output_type": "stream",
     "text": [
      "twqxybopdk000000\n"
     ]
    }
   ],
   "source": [
    "#Two halves of password\n",
    "password1 = 'lhiqigjniogigijt'\n",
    "password2 = 'kfinfrjuhuffgrmq'\n",
    "\n",
    "#We iterate over all possible 128 byte values and perform EAEAE to check for which input the password (half) matches\n",
    "def DecryptPassword(password):\n",
    "    pwd = block_to_ASCII(password)\n",
    "    op = \"\"\n",
    "    for idx in range(8):\n",
    "        for ans in range(128):\n",
    "            inp = op + byte_hex(ans)+(16-len(op)-2)*'f'\n",
    "            if ord(pwd[idx]) == EAEAE(block_to_ASCII(inp), LINEAR_TRANS, EXPONENT)[idx]:\n",
    "                op += byte_hex(ans)\n",
    "                break\n",
    "    return op\n",
    "\n",
    "print(block_to_ASCII(DecryptPassword(password1))+block_to_ASCII(DecryptPassword(password2)))"
   ]
  },
  {
   "cell_type": "code",
   "execution_count": null,
   "metadata": {},
   "outputs": [],
   "source": []
  }
 ],
 "metadata": {
  "kernelspec": {
   "display_name": "Python 3",
   "language": "python",
   "name": "python3"
  },
  "language_info": {
   "codemirror_mode": {
    "name": "ipython",
    "version": 3
   },
   "file_extension": ".py",
   "mimetype": "text/x-python",
   "name": "python",
   "nbconvert_exporter": "python",
   "pygments_lexer": "ipython3",
   "version": "3.7.6"
  }
 },
 "nbformat": 4,
 "nbformat_minor": 2
}
