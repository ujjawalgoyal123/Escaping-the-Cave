{
 "cells": [
  {
   "cell_type": "code",
   "execution_count": 1,
   "metadata": {},
   "outputs": [],
   "source": [
    "txt = \"wsam ie pjo ysgtm eyipbya .P axg niphay y, mey syw ahgm ewhrg tw hmysyam wh meyiepjo ys .Ag jygtmeyk pmys ie pjo ysavw kkoyjgsy whmy sy amwh rmephmewagh y!Me yigu ynay utg smew ajya apr ywap awjfkya no a mwmnmw ghiwfeyswhve wieuwr wm aepby oyyhae wtmy uox8 fkpiya. Me y fpaavgs uwa mxSrN03u wd dvwmegnmmey dngmya. Mew awameyt\""
   ]
  },
  {
   "cell_type": "code",
   "execution_count": 2,
   "metadata": {},
   "outputs": [
    {
     "data": {
      "text/plain": [
       "'wsamiepjoysgtmeyipbyapaxgniphayymeysywahgmewhrgtwhmysyamwhmeyiepjoysagjygtmeykpmysiepjoysavwkkoyjgsywhmysyamwhrmephmewaghymeyiguynayutgsmewajyaaprywapawjfkyanoamwmnmwghiwfeyswhvewieuwrwmaepbyoyyhaewtmyuoxfkpiyameyfpaavgsuwamxsrnuwddvwmegnmmeydngmyamewawameyt'"
      ]
     },
     "execution_count": 2,
     "metadata": {},
     "output_type": "execute_result"
    }
   ],
   "source": [
    "##Cleaning the cipher text\n",
    "\n",
    "cleaned_txt = txt\n",
    "import string\n",
    "for i in string.punctuation:\n",
    "    cleaned_txt = cleaned_txt.replace(i, \"\")\n",
    "cleaned_txt = cleaned_txt.replace(\" \",\"\")\n",
    "digits = str.maketrans('', '', string.digits)\n",
    "cleaned_txt = cleaned_txt.translate(digits)\n",
    "cleaned_txt = cleaned_txt.lower()\n",
    "cleaned_txt"
   ]
  },
  {
   "cell_type": "code",
   "execution_count": 3,
   "metadata": {},
   "outputs": [
    {
     "data": {
      "text/plain": [
       "258"
      ]
     },
     "execution_count": 3,
     "metadata": {},
     "output_type": "execute_result"
    }
   ],
   "source": [
    "txt_len = len(cleaned_txt)\n",
    "txt_len"
   ]
  },
  {
   "cell_type": "code",
   "execution_count": 4,
   "metadata": {},
   "outputs": [
    {
     "data": {
      "text/plain": [
       "[('y', 13.953488372093023),\n",
       " ('m', 10.852713178294573),\n",
       " ('a', 10.465116279069768),\n",
       " ('w', 9.689922480620154),\n",
       " ('e', 8.527131782945736),\n",
       " ('g', 5.426356589147287),\n",
       " ('p', 5.038759689922481),\n",
       " ('s', 5.038759689922481),\n",
       " ('h', 4.651162790697675),\n",
       " ('i', 3.488372093023256),\n",
       " ('j', 2.7131782945736433),\n",
       " ('n', 2.7131782945736433),\n",
       " ('o', 2.7131782945736433),\n",
       " ('t', 2.3255813953488373),\n",
       " ('u', 2.3255813953488373),\n",
       " ('k', 1.937984496124031),\n",
       " ('r', 1.937984496124031),\n",
       " ('f', 1.550387596899225),\n",
       " ('v', 1.550387596899225),\n",
       " ('d', 1.1627906976744187),\n",
       " ('x', 1.1627906976744187),\n",
       " ('b', 0.7751937984496124),\n",
       " ('c', 0.0),\n",
       " ('l', 0.0),\n",
       " ('q', 0.0),\n",
       " ('z', 0.0)]"
      ]
     },
     "execution_count": 4,
     "metadata": {},
     "output_type": "execute_result"
    }
   ],
   "source": [
    "##taking percentage of each alphabet present\n",
    "\n",
    "counter={}\n",
    "alp = \"abcdefghijklmnopqrstuvwxyz\"\n",
    "for i in alp:\n",
    "    n = cleaned_txt.count(i)*100/txt_len\n",
    "    counter[i] = n\n",
    "counter = sorted(counter.items(), key=lambda x: x[1], reverse=True)\n",
    "counter"
   ]
  },
  {
   "cell_type": "code",
   "execution_count": 5,
   "metadata": {},
   "outputs": [
    {
     "name": "stdout",
     "output_type": "stream",
     "text": [
      "This is the cipher text:\n",
      " ympgwhasekuinjtfrvxobcqldzYMPGWHASEKUINJTFRVXOBCQLDZ\n",
      "\n",
      "\n",
      "This is the normal text:\n",
      " etaoinsrhldcumfpgwybvkxjqzETAOINSRHLDCUMFPGWYBVKXJQZ\n",
      "\n",
      "\n",
      "The given encoded message is:\n",
      " wsam ie pjo ysgtm eyipbya .P axg niphay y, mey syw ahgm ewhrg tw hmysyam wh meyiepjo ys .Ag jygtmeyk pmys ie pjo ysavw kkoyjgsy whmy sy amwh rmephmewagh y!Me yigu ynay utg smew ajya apr ywap awjfkya no a mwmnmw ghiwfeyswhve wieuwr wm aepby oyyhae wtmy uox8 fkpiya. Me y fpaavgs uwa mxSrN03u wd dvwmegnmmey dngmya. Mew awameyt\n",
      "\n",
      "\n"
     ]
    },
    {
     "data": {
      "text/plain": [
       "('irst ch amb eroft hecaves .A syo ucanse e, the rei snot hingo fi nterest in thechamb er .So meofthel ater ch amb erswi llbemore inte re stin gthanthison e!Th ecod euse dfo rthi smes sag eisa simples ub s tituti oncipherinwh ichdig it shave beensh ifte dby8 places. Th e passwor dis tyRgU03d iq qwithoutthe quotes. Thi sisthef',\n",
       " 'irstchamberofthecaves.Asyoucansee,thereisnothingofinterestinthechamber.Someofthelaterchamberswillbemoreinterestingthanthisone!Thecodeusedforthismessageisasimplesubstitutioncipherinwhichdigitshavebeenshiftedby8places.ThepasswordistyRgU03diqqwithoutthequotes.Thisisthef')"
      ]
     },
     "execution_count": 5,
     "metadata": {},
     "output_type": "execute_result"
    }
   ],
   "source": [
    "decrypt = \"etaoinsrhldcumfpgwybvkxjqz\"+\"etaoinsrhldcumfpgwybvkxjqz\".upper()\n",
    "encrypt = \"ympgwhasekuinjtfrvxobcqldz\"+\"ympgwhasekuinjtfrvxobcqldz\".upper()\n",
    "\n",
    "print(\"This is the cipher text:\\n\",encrypt)\n",
    "print(\"\\n\")\n",
    "print(\"This is the normal text:\\n\",decrypt)\n",
    "print(\"\\n\")\n",
    "\n",
    "print(\"The given encoded message is:\\n\", txt)\n",
    "print(\"\\n\")\n",
    "\n",
    "txt = list(txt)\n",
    "\n",
    "for i in range(len(txt)):\n",
    "    if not txt[i].isalpha():\n",
    "        continue\n",
    "    n = encrypt.index(txt[i])\n",
    "    txt[i] = decrypt[n]\n",
    "txt = \"\".join(txt)\n",
    "b = txt.replace(\" \",\"\")\n",
    "b = b.replace(\"\\n\", \"\")\n",
    "txt, b"
   ]
  },
  {
   "cell_type": "code",
   "execution_count": 7,
   "metadata": {},
   "outputs": [
    {
     "data": {
      "text/plain": [
       "'This is the first chamber of the caves. As you can see, there is nothing of interest in the chamber. Some of the later chambers will be more interesting than this one! The code used for this message is a simple substitution cipher in which digits have been shifted by 8 places. The password is tyRgU03diqq without the quotes. '"
      ]
     },
     "execution_count": 7,
     "metadata": {},
     "output_type": "execute_result"
    }
   ],
   "source": [
    "#Caesar cipher is now applied\n",
    "b = b[-10:]+b[:-10]\n",
    "#shift = 14 \"This is the f\"\n",
    "txt = txt.split()\n",
    "j = 0\n",
    "for i in txt:\n",
    "    j = j + len(i)\n",
    "    b = b[:j]+\" \"+b[j:]\n",
    "    j += 1\n",
    "b"
   ]
  },
  {
   "cell_type": "code",
   "execution_count": 8,
   "metadata": {},
   "outputs": [
    {
     "name": "stdout",
     "output_type": "stream",
     "text": [
      "Decrypted message:\n",
      " This is the first chamber of the caves. As you can see, there is nothing of interest in the chamber. Some of the later chambers will be more interesting than this one! The code used for this message is a simple substitution cipher in which digits have been shifted by 14 places. The password is tyRgU69diqq without the quotes. \n",
      "\n",
      "\n"
     ]
    }
   ],
   "source": [
    "#initial shift written = 8 total shift = 14 so,\n",
    "b = list(b)\n",
    "for i in range(len(b)):\n",
    "    if not b[i].isdigit():\n",
    "        continue\n",
    "    b[i] = int(b[i]) + 6\n",
    "    b[i] = str(b[i])\n",
    "b = \"\".join(b)\n",
    "print(\"Decrypted message:\\n\",b)\n",
    "print(\"\\n\")"
   ]
  },
  {
   "cell_type": "code",
   "execution_count": 9,
   "metadata": {},
   "outputs": [],
   "source": [
    "password = \"tyRgU69diqq\""
   ]
  },
  {
   "cell_type": "code",
   "execution_count": null,
   "metadata": {},
   "outputs": [],
   "source": []
  }
 ],
 "metadata": {
  "kernelspec": {
   "display_name": "Python 3",
   "language": "python",
   "name": "python3"
  },
  "language_info": {
   "codemirror_mode": {
    "name": "ipython",
    "version": 3
   },
   "file_extension": ".py",
   "mimetype": "text/x-python",
   "name": "python",
   "nbconvert_exporter": "python",
   "pygments_lexer": "ipython3",
   "version": "3.7.6"
  }
 },
 "nbformat": 4,
 "nbformat_minor": 4
}
