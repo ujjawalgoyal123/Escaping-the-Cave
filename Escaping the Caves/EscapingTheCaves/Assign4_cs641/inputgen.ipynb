{
 "cells": [
  {
   "cell_type": "code",
   "execution_count": 2,
   "metadata": {},
   "outputs": [],
   "source": [
    "import random\n",
    "import numpy as np"
   ]
  },
  {
   "cell_type": "code",
   "execution_count": 3,
   "metadata": {},
   "outputs": [],
   "source": [
    "Diff = [0,0,0,0,0,0,0,0,0,0,0,0,0,0,0,0,1,0,0,1,0,0,0,0,0,0,0,1,0,0,0,0,0,0,0,1,0,0,0,0,0,0,0,0,0,0,0,0,0,1,0,1,0,0,0,0,0,0,0,0,0,0,0,0]\n",
    "Bin_Inp = []\n",
    "for i in range(100000):\n",
    "    tmp = '{:0>64}'.format(format(i,\"b\"))\n",
    "    tmp = [int(tmp[j]) for j in range(64)]\n",
    "    Bin_Inp.append(tmp)\n",
    "    Bin_Inp.append(list(np.bitwise_xor(tmp,Diff)))"
   ]
  },
  {
   "cell_type": "code",
   "execution_count": 4,
   "metadata": {},
   "outputs": [
    {
     "data": {
      "text/plain": [
       "{'0000': 'f',\n",
       " '0001': 'g',\n",
       " '0010': 'h',\n",
       " '0011': 'i',\n",
       " '0100': 'j',\n",
       " '0101': 'k',\n",
       " '0110': 'l',\n",
       " '0111': 'm',\n",
       " '1000': 'n',\n",
       " '1001': 'o',\n",
       " '1010': 'p',\n",
       " '1011': 'q',\n",
       " '1100': 'r',\n",
       " '1101': 's',\n",
       " '1110': 't',\n",
       " '1111': 'u'}"
      ]
     },
     "execution_count": 4,
     "metadata": {},
     "output_type": "execute_result"
    }
   ],
   "source": [
    "mapping = {}\n",
    "for i in range(16):\n",
    "    num = '{:0>4}'.format(format(i,\"b\"))\n",
    "    numi = int(num[3]) + 2 *int(num[2]) + int(num[1]) * 4 + int(num[0])*8\n",
    "    mapping[num] = chr(ord('f')+numi)\n",
    "mapping"
   ]
  },
  {
   "cell_type": "code",
   "execution_count": 5,
   "metadata": {},
   "outputs": [],
   "source": [
    "Str_inp = []\n",
    "for i in range(len(Bin_Inp)):\n",
    "    string = \"\"\n",
    "    for j in range(16):\n",
    "        tmp = str(Bin_Inp[i][j*4:(j*4)+4][0])+str(Bin_Inp[i][j*4:(j*4)+4][1])+str(Bin_Inp[i][j*4:(j*4)+4][2])+str(Bin_Inp[i][j*4:(j*4)+4][3])\n",
    "        string = string + mapping[tmp]\n",
    "    Str_inp.append(string)"
   ]
  },
  {
   "cell_type": "code",
   "execution_count": 1,
   "metadata": {},
   "outputs": [
    {
     "ename": "NameError",
     "evalue": "name 'Str_inp' is not defined",
     "output_type": "error",
     "traceback": [
      "\u001b[0;31m---------------------------------------------------------------------------\u001b[0m",
      "\u001b[0;31mNameError\u001b[0m                                 Traceback (most recent call last)",
      "\u001b[0;32m<ipython-input-1-cd60448d5c42>\u001b[0m in \u001b[0;36m<module>\u001b[0;34m\u001b[0m\n\u001b[0;32m----> 1\u001b[0;31m \u001b[0mlen\u001b[0m\u001b[0;34m(\u001b[0m\u001b[0mStr_inp\u001b[0m\u001b[0;34m)\u001b[0m\u001b[0;34m\u001b[0m\u001b[0;34m\u001b[0m\u001b[0m\n\u001b[0m\u001b[1;32m      2\u001b[0m \u001b[0;31m#print (Str_inp[3])\u001b[0m\u001b[0;34m\u001b[0m\u001b[0;34m\u001b[0m\u001b[0;34m\u001b[0m\u001b[0m\n",
      "\u001b[0;31mNameError\u001b[0m: name 'Str_inp' is not defined"
     ]
    }
   ],
   "source": [
    "len(Str_inp)\n",
    "print (Str_inp[3])"
   ]
  },
  {
   "cell_type": "code",
   "execution_count": 7,
   "metadata": {},
   "outputs": [],
   "source": [
    "file = open(\"inputs.txt\",\"w\")\n",
    "for i in Str_inp:\n",
    "    file.write(i)\n",
    "    file.write(\"\\n\")\n",
    "file.close()"
   ]
  },
  {
   "cell_type": "code",
   "execution_count": null,
   "metadata": {},
   "outputs": [],
   "source": []
  }
 ],
 "metadata": {
  "kernelspec": {
   "display_name": "Python 3",
   "language": "python",
   "name": "python3"
  },
  "language_info": {
   "codemirror_mode": {
    "name": "ipython",
    "version": 3
   },
   "file_extension": ".py",
   "mimetype": "text/x-python",
   "name": "python",
   "nbconvert_exporter": "python",
   "pygments_lexer": "ipython3",
   "version": "3.7.6"
  }
 },
 "nbformat": 4,
 "nbformat_minor": 2
}
