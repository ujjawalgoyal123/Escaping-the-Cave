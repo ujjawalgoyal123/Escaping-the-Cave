{
 "cells": [
  {
   "cell_type": "code",
   "execution_count": 1,
   "metadata": {},
   "outputs": [],
   "source": [
    "IP = [\n",
    "  58,50,42, 34,26,18,10,2,\n",
    "  60,52,44,36,28,20,12,4,\n",
    "  62,54, 46, 38, 30, 22, 14,6,\n",
    "  64, 56, 48, 40,32,24, 16, 8,\n",
    "  57, 49, 41, 33,25,17, 9,1,\n",
    "  59, 51,43,35,27,19,11,3,\n",
    "  61,53,45,37,29,21,13, 5,\n",
    "  63,55, 47,39,31,23,15,7]"
   ]
  },
  {
   "cell_type": "code",
   "execution_count": 4,
   "metadata": {},
   "outputs": [
    {
     "name": "stdout",
     "output_type": "stream",
     "text": [
      "[40, 8, 48, 16, 56, 24, 64, 32, 39, 7, 47, 15, 55, 23, 63, 31, 38, 6, 46, 14, 54, 22, 62, 30, 37, 5, 45, 13, 53, 21, 61, 29, 36, 4, 44, 12, 52, 20, 60, 28, 35, 3, 43, 11, 51, 19, 59, 27, 34, 2, 42, 10, 50, 18, 58, 26, 33, 1, 41, 9, 49, 17, 57, 25]\n"
     ]
    }
   ],
   "source": [
    "IIP = []\n",
    "for i in range(1,65):\n",
    "    IIP.append(IP.index(i)+1)\n",
    "print(IIP)"
   ]
  },
  {
   "cell_type": "code",
   "execution_count": 7,
   "metadata": {},
   "outputs": [
    {
     "data": {
      "text/plain": [
       "'0000000000000000100100000001000000010000000000000101000000000000'"
      ]
     },
     "execution_count": 7,
     "metadata": {},
     "output_type": "execute_result"
    }
   ],
   "source": [
    "charac_seq = '0100000001011100000000000000000000000100000000000000000000000000'\n",
    "diff = ''\n",
    "for i in IIP:\n",
    "    diff+=charac_seq[i-1]\n",
    "diff_hex= '0000901010005000'\n",
    "diff"
   ]
  },
  {
   "cell_type": "code",
   "execution_count": null,
   "metadata": {},
   "outputs": [],
   "source": []
  }
 ],
 "metadata": {
  "kernelspec": {
   "display_name": "Python 3",
   "language": "python",
   "name": "python3"
  },
  "language_info": {
   "codemirror_mode": {
    "name": "ipython",
    "version": 3
   },
   "file_extension": ".py",
   "mimetype": "text/x-python",
   "name": "python",
   "nbconvert_exporter": "python",
   "pygments_lexer": "ipython3",
   "version": "3.7.6"
  }
 },
 "nbformat": 4,
 "nbformat_minor": 4
}
