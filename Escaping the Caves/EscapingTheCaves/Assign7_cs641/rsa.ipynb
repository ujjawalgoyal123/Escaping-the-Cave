{
 "cells": [
  {
   "cell_type": "code",
   "execution_count": 1,
   "metadata": {},
   "outputs": [],
   "source": [
    "import numpy as np"
   ]
  },
  {
   "cell_type": "code",
   "execution_count": 2,
   "metadata": {},
   "outputs": [],
   "source": [
    "def print_f(state):\n",
    "    for i in range(5):\n",
    "        for j in range(5):\n",
    "            y = ''.join([str(int(k)) for k in state[i,j,:]])\n",
    "            print(y)\n",
    "        print()"
   ]
  },
  {
   "cell_type": "code",
   "execution_count": 3,
   "metadata": {},
   "outputs": [],
   "source": [
    "key = \"606160E8000000008080820269656CE9E1EBEBEE69656CE9818A8B0669656CE9010A090400000000818A8B0669656CE9616B69EC00000000606160E800000000\""
   ]
  },
  {
   "cell_type": "code",
   "execution_count": 4,
   "metadata": {},
   "outputs": [],
   "source": [
    "hexa = ['0', '1', '2', '3', '4', '5', '6', '7', '8', '9', 'A', 'B', 'C', 'D', 'E', 'F']\n",
    "b = 1600\n",
    "l = 512\n",
    "c = 1024\n",
    "r = 576\n",
    "rounds = 24\n",
    "def sha3(inp):\n",
    "    state = np.zeros([5,5,64])\n",
    "    tempstate = np.zeros([5,5,64])\n",
    "\n",
    "    message = np.zeros(r)\n",
    "\n",
    "    k = 0\n",
    "    for i in range(len(inp)):\n",
    "        t = [int(j) for j in list('{0:08b}'.format(ord(inp[i])))]\n",
    "        for j in t:\n",
    "            message[k] = j\n",
    "            k+=1\n",
    "\n",
    "    for k in range(r):\n",
    "        state[k//(64*5)][(k//64) % 5][k%64] = message[k]\n",
    "\n",
    "    current_round = 0\n",
    "    column_parity = np.zeros([5,64])\n",
    "    print_f(state)\n",
    "    while current_round < rounds:\n",
    "        #print(\"round:\",current_round)\n",
    "        #print_f(state)\n",
    "        #theta operation\n",
    "        for i in range(5):\n",
    "            for k in range(64):\n",
    "                column_parity[i][k] = int(state[i][0][k])^int(state[i][1][k])^int(state[i][2][k])^int(state[i][3][k])^int(state[i][4][k])\n",
    "\n",
    "        for i in range(5):\n",
    "            for j in range(5):\n",
    "                for k in range(64):\n",
    "                    state[i][j][k] = int(state[i][j][k])^(int(column_parity[(i+4)%5][k])^int(column_parity[(i+1)%5][k]))\n",
    "                    tempstate[i][j][k] = state[i][j][k]\n",
    "        #print(\"theta:\")\n",
    "        #print_f(state)\n",
    "        #pi operation\n",
    "        for i in range(5):\n",
    "            for j in range(5):\n",
    "                for k in range(64):\n",
    "                    state[j][((2 * i) + (3 * j)) % 5][k] = tempstate[i][j][k]\n",
    "        #print(\"pi:\")\n",
    "        #print_f(state)\n",
    "        #chi operation\n",
    "        tempstate = np.copy(state)\n",
    "\n",
    "        for i in range(5):\n",
    "            for j in range(5):\n",
    "                for k in range(64):\n",
    "                    state[i][j][k] = int(tempstate[i][j][k])^(~int(tempstate[i][(j+1)%5][k]) & int(tempstate[i][(j+2)%5][k]))\n",
    "        #print(\"chi:\")\n",
    "        #print_f(state)\n",
    "        current_round+=1\n",
    "\n",
    "    #print(state)\n",
    "    k = 0\n",
    "    out = ''\n",
    "    while k < 1600:\n",
    "        index = 0\n",
    "        for j in range(3,-1,-1):\n",
    "            index = index*2 + state[k//(64*5)][(k//64)%5][k%64 + j]\n",
    "        out+=hexa[int(index)]\n",
    "        k += 4\n",
    "        if k%64==0:\n",
    "            out+=\"\\n\"\n",
    "    return out"
   ]
  },
  {
   "cell_type": "code",
   "execution_count": 5,
   "metadata": {},
   "outputs": [
    {
     "name": "stdout",
     "output_type": "stream",
     "text": [
      "chi map: {'00000': [0, 0, 0, 0, 0], '00101': [0, 0, 0, 0, 1], '01010': [0, 0, 0, 1, 0], '01011': [0, 0, 0, 1, 1], '10100': [0, 0, 1, 0, 0], '10001': [0, 0, 1, 0, 1], '10110': [0, 0, 1, 1, 0], '10111': [0, 0, 1, 1, 1], '01001': [0, 1, 0, 0, 0], '01100': [0, 1, 0, 0, 1], '00011': [0, 1, 0, 1, 0], '00010': [0, 1, 0, 1, 1], '01101': [0, 1, 1, 0, 0], '01000': [0, 1, 1, 0, 1], '01111': [0, 1, 1, 1, 0], '01110': [0, 1, 1, 1, 1], '10010': [1, 0, 0, 0, 0], '10101': [1, 0, 0, 0, 1], '11000': [1, 0, 0, 1, 0], '11011': [1, 0, 0, 1, 1], '00110': [1, 0, 1, 0, 0], '00001': [1, 0, 1, 0, 1], '00100': [1, 0, 1, 1, 0], '00111': [1, 0, 1, 1, 1], '11010': [1, 1, 0, 0, 0], '11101': [1, 1, 0, 0, 1], '10000': [1, 1, 0, 1, 0], '10011': [1, 1, 0, 1, 1], '11110': [1, 1, 1, 0, 0], '11001': [1, 1, 1, 0, 1], '11100': [1, 1, 1, 1, 0], '11111': [1, 1, 1, 1, 1]}\n"
     ]
    }
   ],
   "source": [
    "chi_map={}\n",
    "for i in range(32):\n",
    "    col = [int(j) for j in '{0:05b}'.format(i)]\n",
    "    col_new = []\n",
    "    for j in range(5):\n",
    "        col_new.append(int(col[j])^(~int(col[(j+1)%5]) & int(col[(j+2)%5])))\n",
    "    chi_map[(''.join([str(int(k)) for k in col_new]))] = [int(j) for j in '{0:05b}'.format(i)]\n",
    "print(\"chi map:\",chi_map)\n",
    "\n",
    "#pi_inversion\n",
    "def pi_inv(tempstate):\n",
    "    state = np.zeros([5,5,64])\n",
    "    for i in range(5):\n",
    "        for j in range(5):\n",
    "            for k in range(64):\n",
    "                state[i][j][k] = tempstate[j][((2*i)+(3*j))%5][k]\n",
    "    #print(\"pi inv:\")\n",
    "    #print_f(state)\n",
    "    return state\n",
    "\n",
    "#chi_inversion\n",
    "def chi_inv(tempstate):\n",
    "    state = np.zeros([5,5,64])\n",
    "    for i in range(5):\n",
    "        for j in range(64):\n",
    "            curr = ''.join([str(int(k)) for k in tempstate[i,:,j].tolist()])\n",
    "            #print(curr)\n",
    "            curr = chi_map[curr]\n",
    "            for k in range(5):\n",
    "                state[i][k][j]=curr[k]\n",
    "    #print(\"chi inv:\")\n",
    "    #print_f(state)\n",
    "    return state\n",
    "\n",
    "#theta_inversion\n",
    "def theta_inv(state):\n",
    "    column_parity = np.zeros([5,64])\n",
    "    for i in range(5):\n",
    "        for i in range(5):\n",
    "            for k in range(64):\n",
    "                column_parity[i][k] = int(state[i][0][k])^int(state[i][1][k])^int(state[i][2][k])^int(state[i][3][k])^int(state[i][4][k])\n",
    "        for i in range(5):\n",
    "            for j in range(5):\n",
    "                for k in range(64):\n",
    "                    state[i][j][k] = int(state[i][j][k])^(int(column_parity[(i+4)%5][k])^int(column_parity[(i+1)%5][k]))                    \n",
    "    #print(\"theta inv:\")\n",
    "    #print_f(state)\n",
    "    return state"
   ]
  },
  {
   "cell_type": "code",
   "execution_count": 6,
   "metadata": {},
   "outputs": [
    {
     "name": "stdout",
     "output_type": "stream",
     "text": [
      "0110110001101111011101100110010101110011011101000110000101110010\n",
      "0110011001101001011100110110100000000000000000000000000000000000\n",
      "0000000000000000000000000000000000000000000000000000000000000000\n",
      "0000000000000000000000000000000000000000000000000000000000000000\n",
      "0000000000000000000000000000000000000000000000000000000000000000\n",
      "\n",
      "0000000000000000000000000000000000000000000000000000000000000000\n",
      "0000000000000000000000000000000000000000000000000000000000000000\n",
      "0000000000000000000000000000000000000000000000000000000000000000\n",
      "0000000000000000000000000000000000000000000000000000000000000000\n",
      "0000000000000000000000000000000000000000000000000000000000000000\n",
      "\n",
      "0000000000000000000000000000000000000000000000000000000000000000\n",
      "0000000000000000000000000000000000000000000000000000000000000000\n",
      "0000000000000000000000000000000000000000000000000000000000000000\n",
      "0000000000000000000000000000000000000000000000000000000000000000\n",
      "0000000000000000000000000000000000000000000000000000000000000000\n",
      "\n",
      "0000000000000000000000000000000000000000000000000000000000000000\n",
      "0000000000000000000000000000000000000000000000000000000000000000\n",
      "0000000000000000000000000000000000000000000000000000000000000000\n",
      "0000000000000000000000000000000000000000000000000000000000000000\n",
      "0000000000000000000000000000000000000000000000000000000000000000\n",
      "\n",
      "0000000000000000000000000000000000000000000000000000000000000000\n",
      "0000000000000000000000000000000000000000000000000000000000000000\n",
      "0000000000000000000000000000000000000000000000000000000000000000\n",
      "0000000000000000000000000000000000000000000000000000000000000000\n",
      "0000000000000000000000000000000000000000000000000000000000000000\n",
      "\n"
     ]
    }
   ],
   "source": [
    "#debug\n",
    "l3 = sha3('lovestarfish').split(\"\\n\")[:-1]\n",
    "l2 = l3[:10]\n",
    "#problem\n",
    "l1 = [key[i:i+16] for i in range(0,128,16)]\n",
    "l1.append('0000000000000000')\n",
    "l1.append('E0E1E2EA69656CE9')\n",
    "#use in l3\n",
    "l4 = []\n",
    "for i in l3:\n",
    "    l4.append(l1[l2.index(i)])"
   ]
  },
  {
   "cell_type": "code",
   "execution_count": 7,
   "metadata": {},
   "outputs": [
    {
     "name": "stdout",
     "output_type": "stream",
     "text": [
      "['6269E46000000000', '0106020AECE268E4', '676FEE6BECE268E4', '05060A0BECE268E4', '0400080100000000', '05060A0BECE268E4', '6669EC6100000000', '6269E46000000000', '0000000000000000', '636FE66AECE268E4', '0000000000000000', '6269E46000000000', '636FE66AECE268E4', '0400080100000000', '0000000000000000', '05060A0BECE268E4', '05060A0BECE268E4', '0400080100000000', '0000000000000000', '0106020AECE268E4', '0106020AECE268E4', '676FEE6BECE268E4', '676FEE6BECE268E4', '676FEE6BECE268E4', '0400080100000000']\n",
      "0110110001101111011101100110010101110011011101000110000101110010\n",
      "0110011001101001011100110110100000000000000000000000000000000000\n"
     ]
    },
    {
     "data": {
      "text/plain": [
       "'lovestarfish'"
      ]
     },
     "execution_count": 7,
     "metadata": {},
     "output_type": "execute_result"
    }
   ],
   "source": [
    "#debug\n",
    "state = np.zeros([5,5,64])\n",
    "print(l3)\n",
    "for j in range(len(l3)):\n",
    "    temp = [('{0:04b}'.format(hexa.index(i)))[::-1] for i in l3[j]]\n",
    "    temp = ''.join(temp)\n",
    "    for i in range(len(temp)):\n",
    "        state[j//5][j%5][i]=int(temp[i])\n",
    "#print_f(state)\n",
    "current_round = 0\n",
    "while current_round<rounds:\n",
    "    #print(\"round:\",current_round)\n",
    "    state = theta_inv(pi_inv(chi_inv(state)))\n",
    "    current_round+=1\n",
    "\n",
    "state = state.tolist()\n",
    "\n",
    "y = ''\n",
    "for i in state[0][0:2]:\n",
    "    x = ''.join([str(int(j)) for j in i])\n",
    "    print(x)\n",
    "    for j in range(0,64,8):\n",
    "        y += chr(int(x[j:j+8],2))\n",
    "y[:12]"
   ]
  },
  {
   "cell_type": "code",
   "execution_count": 8,
   "metadata": {},
   "outputs": [
    {
     "name": "stdout",
     "output_type": "stream",
     "text": [
      "['606160E800000000', '8080820269656CE9', 'E1EBEBEE69656CE9', '818A8B0669656CE9', '010A090400000000', '818A8B0669656CE9', '616B69EC00000000', '606160E800000000', '0000000000000000', 'E0E1E2EA69656CE9', '0000000000000000', '606160E800000000', 'E0E1E2EA69656CE9', '010A090400000000', '0000000000000000', '818A8B0669656CE9', '818A8B0669656CE9', '010A090400000000', '0000000000000000', '8080820269656CE9', '8080820269656CE9', 'E1EBEBEE69656CE9', 'E1EBEBEE69656CE9', 'E1EBEBEE69656CE9', '010A090400000000']\n",
      "0110000001101000011000000111000100000000000000000000000000000000\n",
      "0001000000010000000101000000010001101001011010100110001101111001\n",
      "0111100001111101011111010111011101101001011010100110001101111001\n",
      "0001100000010101000111010000011001101001011010100110001101111001\n",
      "0000100000000101000010010000001000000000000000000000000000000000\n",
      "\n",
      "0001100000010101000111010000011001101001011010100110001101111001\n",
      "0110100001101101011010010111001100000000000000000000000000000000\n",
      "0110000001101000011000000111000100000000000000000000000000000000\n",
      "0000000000000000000000000000000000000000000000000000000000000000\n",
      "0111000001111000011101000111010101101001011010100110001101111001\n",
      "\n",
      "0000000000000000000000000000000000000000000000000000000000000000\n",
      "0110000001101000011000000111000100000000000000000000000000000000\n",
      "0111000001111000011101000111010101101001011010100110001101111001\n",
      "0000100000000101000010010000001000000000000000000000000000000000\n",
      "0000000000000000000000000000000000000000000000000000000000000000\n",
      "\n",
      "0001100000010101000111010000011001101001011010100110001101111001\n",
      "0001100000010101000111010000011001101001011010100110001101111001\n",
      "0000100000000101000010010000001000000000000000000000000000000000\n",
      "0000000000000000000000000000000000000000000000000000000000000000\n",
      "0001000000010000000101000000010001101001011010100110001101111001\n",
      "\n",
      "0001000000010000000101000000010001101001011010100110001101111001\n",
      "0111100001111101011111010111011101101001011010100110001101111001\n",
      "0111100001111101011111010111011101101001011010100110001101111001\n",
      "0111100001111101011111010111011101101001011010100110001101111001\n",
      "0000100000000101000010010000001000000000000000000000000000000000\n",
      "\n",
      "0111000001111000011101000111010101101001011010100110001101111001\n",
      "0110100001101101011010010111001100000000000000000000000000000000\n"
     ]
    },
    {
     "data": {
      "text/plain": [
       "'pxtuijcyhmis'"
      ]
     },
     "execution_count": 8,
     "metadata": {},
     "output_type": "execute_result"
    }
   ],
   "source": [
    "#final\n",
    "state = np.zeros([5,5,64])\n",
    "print(l4)\n",
    "for j in range(len(l4)):\n",
    "    temp = [('{0:04b}'.format(hexa.index(i)))[::-1] for i in l4[j]]\n",
    "    temp = ''.join(temp)\n",
    "    for i in range(len(temp)):\n",
    "        state[j//5][j%5][i]=int(temp[i])\n",
    "print_f(state)\n",
    "current_round = 0\n",
    "while current_round<rounds:\n",
    "    #print(\"round:\",current_round)\n",
    "    state = theta_inv(pi_inv(chi_inv(state)))\n",
    "    current_round+=1\n",
    "\n",
    "state = state.tolist()\n",
    "\n",
    "y = ''\n",
    "for i in state[0][0:2]:\n",
    "    x = ''.join([str(int(j)) for j in i])\n",
    "    print(x)\n",
    "    for j in range(0,64,8):\n",
    "        y += chr(int(x[j:j+8],2))\n",
    "y[:12]"
   ]
  },
  {
   "cell_type": "code",
   "execution_count": null,
   "metadata": {},
   "outputs": [],
   "source": []
  }
 ],
 "metadata": {
  "kernelspec": {
   "display_name": "Python 3",
   "language": "python",
   "name": "python3"
  },
  "language_info": {
   "codemirror_mode": {
    "name": "ipython",
    "version": 3
   },
   "file_extension": ".py",
   "mimetype": "text/x-python",
   "name": "python",
   "nbconvert_exporter": "python",
   "pygments_lexer": "ipython3",
   "version": "3.7.6"
  }
 },
 "nbformat": 4,
 "nbformat_minor": 4
}
